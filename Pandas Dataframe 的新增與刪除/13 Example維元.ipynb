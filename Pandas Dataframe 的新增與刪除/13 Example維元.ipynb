{
 "cells": [
  {
   "cell_type": "markdown",
   "metadata": {},
   "source": [
    "# 範例\n",
    "***"
   ]
  },
  {
   "cell_type": "markdown",
   "metadata": {},
   "source": [
    "# [教學目標]\n",
    "\n",
    "* 正確的從 DataFrame 中插入或刪除資料\n",
    "* 正確的對 DataFrame 進行合併與重組\n",
    "* 了解 DataFrame 中合併的方法差異\n",
    "\n"
   ]
  },
  {
   "cell_type": "code",
   "execution_count": 12,
   "metadata": {},
   "outputs": [
    {
     "output_type": "stream",
     "name": "stdout",
     "text": [
      "<module 'numpy' from 'C:\\\\Users\\\\w2435\\\\AppData\\\\Local\\\\Programs\\\\Python\\\\Python38\\\\lib\\\\site-packages\\\\numpy\\\\__init__.py'>\n1.20.0\n<module 'pandas' from 'C:\\\\Users\\\\w2435\\\\AppData\\\\Local\\\\Programs\\\\Python\\\\Python38\\\\lib\\\\site-packages\\\\pandas\\\\__init__.py'>\n1.2.1\n"
     ]
    }
   ],
   "source": [
    "# 載入 NumPy, Pandas 套件\n",
    "import numpy as np\n",
    "import pandas as pd\n",
    "\n",
    "# 檢查正確載入與版本\n",
    "print(np)\n",
    "print(np.__version__)\n",
    "print(pd)\n",
    "print(pd.__version__)"
   ]
  },
  {
   "cell_type": "code",
   "execution_count": 13,
   "metadata": {},
   "outputs": [
    {
     "output_type": "stream",
     "name": "stdout",
     "text": [
      "   a\n0  1\n1  2\n   a  b\n0  1  3\n1  2  4\n"
     ]
    }
   ],
   "source": [
    "# 從 DataFrame 中插入或刪除資料\n",
    "\n",
    "import pandas as pd\n",
    "\n",
    "df = pd.DataFrame([[1], [2]], columns = ['a'])\n",
    "print(df)\n",
    "\n",
    "df['b'] = pd.Series([3, 4])\n",
    "print(df)\n"
   ]
  },
  {
   "cell_type": "code",
   "execution_count": 14,
   "metadata": {},
   "outputs": [
    {
     "output_type": "stream",
     "name": "stdout",
     "text": [
      "   a  b\n0  1  2\n   a  b\n0  1  2\n0  3  4\n"
     ]
    }
   ],
   "source": [
    "import pandas as pd\n",
    "\n",
    "df = pd.DataFrame([[1, 2]], columns = ['a', 'b'])\n",
    "print(df)\n",
    "\n",
    "\n",
    "df = df.append(pd.DataFrame([[3, 4]], columns = ['a', 'b']))\n",
    "print(df)\n",
    "\n"
   ]
  },
  {
   "cell_type": "code",
   "execution_count": 15,
   "metadata": {},
   "outputs": [
    {
     "output_type": "stream",
     "name": "stdout",
     "text": [
      "   a  b\n0  1  2\n   a  b\n0  1  2\n1  3  4\n"
     ]
    }
   ],
   "source": [
    "import pandas as pd\n",
    "\n",
    "df = pd.DataFrame([[1, 2]], columns = ['a', 'b'])\n",
    "print(df)\n",
    "\n",
    "\n",
    "df = df.append(pd.DataFrame([[3, 4]], columns = ['a', 'b']))\n",
    "df = df.reset_index(drop=True)\n",
    "print(df)\n"
   ]
  },
  {
   "cell_type": "code",
   "execution_count": 16,
   "metadata": {},
   "outputs": [
    {
     "output_type": "stream",
     "name": "stdout",
     "text": [
      "   a  b  c\n0  1  2  3\n"
     ]
    },
    {
     "output_type": "execute_result",
     "data": {
      "text/plain": [
       "0    3\n",
       "Name: c, dtype: int64"
      ]
     },
     "metadata": {},
     "execution_count": 16
    }
   ],
   "source": [
    "import pandas as pd\n",
    "\n",
    "df = pd.DataFrame([[1, 2, 3]], columns = ['a', 'b', 'c'])\n",
    "print(df)\n",
    "\n",
    "\n",
    "\n",
    "del df['a']\n",
    "df.pop('c')\n",
    "\n"
   ]
  },
  {
   "cell_type": "code",
   "execution_count": 17,
   "metadata": {},
   "outputs": [
    {
     "output_type": "stream",
     "name": "stdout",
     "text": [
      "   a\n0  1\n1  2\n   a\n0  1\n"
     ]
    }
   ],
   "source": [
    "import pandas as pd\n",
    "\n",
    "df = pd.DataFrame([[1], [2]], columns = ['a'])\n",
    "print(df)\n",
    "\n",
    "\n",
    "\n",
    "df = df.drop(1)\n",
    "print(df)\n",
    "\n"
   ]
  },
  {
   "cell_type": "code",
   "execution_count": 18,
   "metadata": {},
   "outputs": [
    {
     "output_type": "execute_result",
     "data": {
      "text/plain": [
       "   id  Name\n",
       "0   1  Alex\n",
       "1   2   Amy\n",
       "0   1   Bob\n",
       "1   2   Tom"
      ],
      "text/html": "<div>\n<style scoped>\n    .dataframe tbody tr th:only-of-type {\n        vertical-align: middle;\n    }\n\n    .dataframe tbody tr th {\n        vertical-align: top;\n    }\n\n    .dataframe thead th {\n        text-align: right;\n    }\n</style>\n<table border=\"1\" class=\"dataframe\">\n  <thead>\n    <tr style=\"text-align: right;\">\n      <th></th>\n      <th>id</th>\n      <th>Name</th>\n    </tr>\n  </thead>\n  <tbody>\n    <tr>\n      <th>0</th>\n      <td>1</td>\n      <td>Alex</td>\n    </tr>\n    <tr>\n      <th>1</th>\n      <td>2</td>\n      <td>Amy</td>\n    </tr>\n    <tr>\n      <th>0</th>\n      <td>1</td>\n      <td>Bob</td>\n    </tr>\n    <tr>\n      <th>1</th>\n      <td>2</td>\n      <td>Tom</td>\n    </tr>\n  </tbody>\n</table>\n</div>"
     },
     "metadata": {},
     "execution_count": 18
    }
   ],
   "source": [
    "# DataFrame 的合併與重組\n",
    "\n",
    "one = pd.DataFrame({\n",
    "    'id':[1, 2],\n",
    "    'Name': ['Alex', 'Amy'],\n",
    "})\n",
    "two = pd.DataFrame({\n",
    "    'id':[1, 2],\n",
    "    'Name': ['Bob', 'Tom']\n",
    "})\n",
    "\n",
    "pd.concat([one, two])\n"
   ]
  },
  {
   "cell_type": "code",
   "execution_count": 19,
   "metadata": {},
   "outputs": [
    {
     "output_type": "execute_result",
     "data": {
      "text/plain": [
       "   id  Name\n",
       "0   1  Alex\n",
       "1   2   Amy\n",
       "2   1   Bob\n",
       "3   2   Tom"
      ],
      "text/html": "<div>\n<style scoped>\n    .dataframe tbody tr th:only-of-type {\n        vertical-align: middle;\n    }\n\n    .dataframe tbody tr th {\n        vertical-align: top;\n    }\n\n    .dataframe thead th {\n        text-align: right;\n    }\n</style>\n<table border=\"1\" class=\"dataframe\">\n  <thead>\n    <tr style=\"text-align: right;\">\n      <th></th>\n      <th>id</th>\n      <th>Name</th>\n    </tr>\n  </thead>\n  <tbody>\n    <tr>\n      <th>0</th>\n      <td>1</td>\n      <td>Alex</td>\n    </tr>\n    <tr>\n      <th>1</th>\n      <td>2</td>\n      <td>Amy</td>\n    </tr>\n    <tr>\n      <th>2</th>\n      <td>1</td>\n      <td>Bob</td>\n    </tr>\n    <tr>\n      <th>3</th>\n      <td>2</td>\n      <td>Tom</td>\n    </tr>\n  </tbody>\n</table>\n</div>"
     },
     "metadata": {},
     "execution_count": 19
    }
   ],
   "source": [
    "one = pd.DataFrame({\n",
    "    'id':[1, 2],\n",
    "    'Name': ['Alex', 'Amy'],\n",
    "})\n",
    "two = pd.DataFrame({\n",
    "    'id':[1, 2],\n",
    "    'Name': ['Bob', 'Tom']\n",
    "})\n",
    "\n",
    "pd.concat([one, two]).reset_index(drop=True)\n"
   ]
  },
  {
   "cell_type": "code",
   "execution_count": 20,
   "metadata": {},
   "outputs": [
    {
     "output_type": "execute_result",
     "data": {
      "text/plain": [
       "   id  Name  Score\n",
       "0   1  Alex     98\n",
       "1   2   Amy     60"
      ],
      "text/html": "<div>\n<style scoped>\n    .dataframe tbody tr th:only-of-type {\n        vertical-align: middle;\n    }\n\n    .dataframe tbody tr th {\n        vertical-align: top;\n    }\n\n    .dataframe thead th {\n        text-align: right;\n    }\n</style>\n<table border=\"1\" class=\"dataframe\">\n  <thead>\n    <tr style=\"text-align: right;\">\n      <th></th>\n      <th>id</th>\n      <th>Name</th>\n      <th>Score</th>\n    </tr>\n  </thead>\n  <tbody>\n    <tr>\n      <th>0</th>\n      <td>1</td>\n      <td>Alex</td>\n      <td>98</td>\n    </tr>\n    <tr>\n      <th>1</th>\n      <td>2</td>\n      <td>Amy</td>\n      <td>60</td>\n    </tr>\n  </tbody>\n</table>\n</div>"
     },
     "metadata": {},
     "execution_count": 20
    }
   ],
   "source": [
    "one = pd.DataFrame({\n",
    "    'id':[1, 2],\n",
    "    'Name': ['Alex', 'Amy'],\n",
    "})\n",
    "two = pd.DataFrame({\n",
    "    'id':[1, 2],\n",
    "    'Score': [98, 60]\n",
    "})\n",
    "\n",
    "pd.merge(one, two, on='id')\n"
   ]
  },
  {
   "cell_type": "code",
   "execution_count": 21,
   "metadata": {},
   "outputs": [
    {
     "output_type": "execute_result",
     "data": {
      "text/plain": [
       "   Name  Score\n",
       "0  Alex     98\n",
       "1   Amy     60"
      ],
      "text/html": "<div>\n<style scoped>\n    .dataframe tbody tr th:only-of-type {\n        vertical-align: middle;\n    }\n\n    .dataframe tbody tr th {\n        vertical-align: top;\n    }\n\n    .dataframe thead th {\n        text-align: right;\n    }\n</style>\n<table border=\"1\" class=\"dataframe\">\n  <thead>\n    <tr style=\"text-align: right;\">\n      <th></th>\n      <th>Name</th>\n      <th>Score</th>\n    </tr>\n  </thead>\n  <tbody>\n    <tr>\n      <th>0</th>\n      <td>Alex</td>\n      <td>98</td>\n    </tr>\n    <tr>\n      <th>1</th>\n      <td>Amy</td>\n      <td>60</td>\n    </tr>\n  </tbody>\n</table>\n</div>"
     },
     "metadata": {},
     "execution_count": 21
    }
   ],
   "source": [
    "one = pd.DataFrame({\n",
    "    'Name': ['Alex', 'Amy'],\n",
    "})\n",
    "two = pd.DataFrame({\n",
    "    'Score': [98, 60]\n",
    "})\n",
    "\n",
    "one.join(two)\n"
   ]
  },
  {
   "cell_type": "code",
   "execution_count": 22,
   "metadata": {},
   "outputs": [
    {
     "output_type": "execute_result",
     "data": {
      "text/plain": [
       "           C   D\n",
       "A   B           \n",
       "bar one    2  20\n",
       "    three  4  40\n",
       "foo one    1  10\n",
       "    two    3  30"
      ],
      "text/html": "<div>\n<style scoped>\n    .dataframe tbody tr th:only-of-type {\n        vertical-align: middle;\n    }\n\n    .dataframe tbody tr th {\n        vertical-align: top;\n    }\n\n    .dataframe thead th {\n        text-align: right;\n    }\n</style>\n<table border=\"1\" class=\"dataframe\">\n  <thead>\n    <tr style=\"text-align: right;\">\n      <th></th>\n      <th></th>\n      <th>C</th>\n      <th>D</th>\n    </tr>\n    <tr>\n      <th>A</th>\n      <th>B</th>\n      <th></th>\n      <th></th>\n    </tr>\n  </thead>\n  <tbody>\n    <tr>\n      <th rowspan=\"2\" valign=\"top\">bar</th>\n      <th>one</th>\n      <td>2</td>\n      <td>20</td>\n    </tr>\n    <tr>\n      <th>three</th>\n      <td>4</td>\n      <td>40</td>\n    </tr>\n    <tr>\n      <th rowspan=\"2\" valign=\"top\">foo</th>\n      <th>one</th>\n      <td>1</td>\n      <td>10</td>\n    </tr>\n    <tr>\n      <th>two</th>\n      <td>3</td>\n      <td>30</td>\n    </tr>\n  </tbody>\n</table>\n</div>"
     },
     "metadata": {},
     "execution_count": 22
    }
   ],
   "source": [
    "\n",
    "df = pd.DataFrame({\n",
    "  'A' : ['foo', 'bar', 'foo', 'bar'],\n",
    "  'B' : ['one', 'one', 'two', 'three'],\n",
    "  'C' : [1,2,3,4],\n",
    "  'D' : [10, 20, 30, 40]\n",
    "})\n",
    "\n",
    "df.groupby('A').sum()\n",
    "df.groupby('A').agg(sum)\n",
    "df.groupby(['A','B']).sum()\n",
    "\n"
   ]
  },
  {
   "cell_type": "code",
   "execution_count": 22,
   "metadata": {},
   "outputs": [],
   "source": [
    "\n"
   ]
  }
 ],
 "metadata": {
  "kernelspec": {
   "display_name": "Python 3",
   "language": "python",
   "name": "python3"
  },
  "language_info": {
   "codemirror_mode": {
    "name": "ipython",
    "version": 3
   },
   "file_extension": ".py",
   "mimetype": "text/x-python",
   "name": "python",
   "nbconvert_exporter": "python",
   "pygments_lexer": "ipython3",
   "version": "3.8.7-final"
  }
 },
 "nbformat": 4,
 "nbformat_minor": 2
}